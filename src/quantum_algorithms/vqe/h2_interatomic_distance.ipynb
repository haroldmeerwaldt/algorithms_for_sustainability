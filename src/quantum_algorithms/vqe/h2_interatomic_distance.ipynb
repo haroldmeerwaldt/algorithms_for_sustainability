{
 "cells": [
  {
   "cell_type": "markdown",
   "source": "# WIP: Quantum chemistry with Qiskit Nature: finding the interatomic distance of a hydrogen molecule",
   "metadata": {
    "collapsed": false
   }
  },
  {
   "cell_type": "markdown",
   "source": [
    "Introduction\n",
    "\n",
    "[refs: Sharkey and qiskit-nature documentation]\n",
    "[look at qiskit nature documentation for explanations]"
   ],
   "metadata": {
    "collapsed": false
   }
  },
  {
   "cell_type": "markdown",
   "source": [
    "## MoleculeInfo\n",
    "We start by describing the molecule that we want to look at, in our case a hydrogen molecule:"
   ],
   "metadata": {
    "collapsed": false
   }
  },
  {
   "cell_type": "code",
   "source": [
    "from qiskit_nature.second_q.formats import MoleculeInfo\n",
    "\n",
    "from quantum_algorithms.vqe.energy_calculation import GroundStateEnergyCalculation\n",
    "\n",
    "distance = 0.735\n",
    "molecule = MoleculeInfo([\"H\", \"H\"], [(0.0, 0.0, 0.0), (0.0, 0.0, distance)], charge=0, multiplicity=1)"
   ],
   "metadata": {
    "collapsed": false,
    "ExecuteTime": {
     "end_time": "2024-11-06T20:24:35.159575Z",
     "start_time": "2024-11-06T20:24:35.127579Z"
    }
   },
   "outputs": [],
   "execution_count": 6
  },
  {
   "cell_type": "markdown",
   "source": [
    "* The symbols are for the two hydrogen atoms.\n",
    "* We are going to vary the coordinates (in Angstrom) of the second hydrogen atom. We'll use 3 Angstrom as the initial point.\n",
    "* The total charge of the hydrogen atom is 0.\n",
    "* The multiplicity is 2 * S + 1, where S is the spin of the molecule due to unpaired electrons. The hydrogen molecule has no unpaired electrons, so the multiplicity is 1."
   ],
   "metadata": {
    "collapsed": false
   }
  },
  {
   "cell_type": "markdown",
   "source": [
    "Next, we convert the molecule into electronic structure problem through the PySCFDriver:"
   ],
   "metadata": {
    "collapsed": false
   }
  },
  {
   "cell_type": "code",
   "source": [
    "from qiskit_nature.second_q.drivers import PySCFDriver\n",
    "\n",
    "driver = PySCFDriver.from_molecule(molecule)\n",
    "es_problem = driver.run()"
   ],
   "metadata": {
    "collapsed": false,
    "ExecuteTime": {
     "end_time": "2024-10-31T06:44:20.294842Z",
     "start_time": "2024-10-31T06:44:17.198425Z"
    }
   },
   "outputs": [],
   "execution_count": 2
  },
  {
   "cell_type": "markdown",
   "source": [
    "PySCFDriver is a driver from the PySCF library for second quantization. Second quantization means converting the description of the molecule from using electronic wave functions to using Fock space. Electronic wave functions give the probability density to find an electron at a certain set of coordinates. Wave functions can be built up from eigenfunctions, functions with an allowed energy. Using these eigenfunctions, the electronic configuration can the also be described in Fock space, where we no longer look at the position we may find the electron, but at which one of the eigenstates the electron is in. [check and improve, eigenstates/functions]"
   ],
   "metadata": {
    "collapsed": false
   }
  },
  {
   "metadata": {
    "ExecuteTime": {
     "end_time": "2024-10-31T06:50:28.770463Z",
     "start_time": "2024-10-31T06:50:28.739889Z"
    }
   },
   "cell_type": "code",
   "source": [
    "fermionic_op = es_problem.hamiltonian.second_q_op()\n",
    "n_particles = es_problem.num_particles\n",
    "n_spatial_orbitals = es_problem.num_spatial_orbitals\n",
    "nuclear_repulsion_energy = es_problem.nuclear_repulsion_energy"
   ],
   "outputs": [],
   "execution_count": 6
  },
  {
   "cell_type": "markdown",
   "source": [
    "## QubitConverter\n",
    "To do quantum chemistry calculations using quantum computing, operators on electrons need to be converted to operators on qubits. This is done with a QubitConverter object:"
   ],
   "metadata": {
    "collapsed": false
   }
  },
  {
   "cell_type": "code",
   "source": [
    "from qiskit_nature.second_q.mappers import ParityMapper\n",
    "\n",
    "mapper = ParityMapper(num_particles=(1, 1))\n",
    "qubit_op = mapper.map(fermionic_op)"
   ],
   "metadata": {
    "collapsed": false,
    "ExecuteTime": {
     "end_time": "2024-10-31T06:53:07.631013Z",
     "start_time": "2024-10-31T06:53:07.384316Z"
    }
   },
   "outputs": [],
   "execution_count": 7
  },
  {
   "cell_type": "markdown",
   "source": [
    "* The specific mapper chosen uses the Jordan-Wigner transformation [why? how does it work?]. Other possible mappers are ParityMapper and BravyiKitaevMapper. [why not these? how do they work?]"
   ],
   "metadata": {
    "collapsed": false
   }
  },
  {
   "cell_type": "markdown",
   "source": [
    "## VQEUCCFactory\n",
    "We are going to calculate the interatomic distance of hydrogen using the Variational Quantum Eigensolver (VQE) algorithm. VQE works in a loop, where each iteration has the following steps:\n",
    " * A quantum circuit (a sequence of qubit operations) is described by a set of parameters\n",
    " * The qubit values are measured after executing the quantum circuit.\n",
    " * Based on the qubit values, new parameters for the quantum circuit are chosen.\n",
    "\n",
    "In our case the qubit values represent the energy of the hydrogen molecule. The goal of the loop is to find the parameters of the quantum circuit that give the lowest energy (ground state energy). The parameters of the quantum circuit model the state of the electrons of the hydrogen molecule. [how does it determine this?]\n"
   ],
   "metadata": {
    "collapsed": false
   }
  },
  {
   "cell_type": "code",
   "source": [
    "from qiskit_nature.second_q.circuit.library import HartreeFock, UCCSD\n",
    "\n",
    "initial_state = HartreeFock(n_spatial_orbitals, n_particles, mapper)\n",
    "ansatz = UCCSD(n_spatial_orbitals, n_particles, mapper, initial_state=initial_state)"
   ],
   "metadata": {
    "collapsed": false,
    "ExecuteTime": {
     "end_time": "2024-10-31T06:53:13.177520Z",
     "start_time": "2024-10-31T06:53:13.065168Z"
    }
   },
   "outputs": [],
   "execution_count": 8
  },
  {
   "cell_type": "markdown",
   "source": [
    "The VQEUCCFactory makes a VQE instance.\n",
    "* an Estimator instance is used to estimate the eigenvalues [how exactly? why?]\n",
    "* the UCCSD constructs a multi-electron wave function as the ansatz, with the sum of single (S) and double (D) excitations [how exactly? what is UCC?]\n",
    "* optimization in the loop is done by the Sequential Least SQuares Programming optimizer"
   ],
   "metadata": {
    "collapsed": false
   }
  },
  {
   "cell_type": "markdown",
   "source": [],
   "metadata": {
    "collapsed": false
   }
  },
  {
   "cell_type": "markdown",
   "source": [
    "\n",
    "\n",
    "\n",
    "\n",
    "\n",
    "VQEUCCFactory and Estimator, UCCSD, SLSQP\n",
    "PySCFDriver\n",
    "ActiveSpaceTransformer\n",
    "GroundStateEigenSolver"
   ],
   "metadata": {
    "collapsed": false
   }
  },
  {
   "cell_type": "code",
   "source": [
    "from qiskit.primitives import Estimator\n",
    "\n",
    "estimator = Estimator()  # todo: move to V2 Estimator once https://github.com/qiskit-community/qiskit-algorithms/issues/136 is fixed"
   ],
   "metadata": {
    "collapsed": false,
    "ExecuteTime": {
     "end_time": "2024-10-31T07:05:01.607255Z",
     "start_time": "2024-10-31T07:05:01.578896Z"
    }
   },
   "outputs": [
    {
     "name": "stderr",
     "output_type": "stream",
     "text": [
      "/tmp/ipykernel_9/2561769255.py:5: DeprecationWarning: The class ``qiskit.primitives.estimator.Estimator`` is deprecated as of qiskit 1.2. It will be removed no earlier than 3 months after the release date. All implementations of the `BaseEstimatorV1` interface have been deprecated in favor of their V2 counterparts. The V2 alternative for the `Estimator` class is `StatevectorEstimator`.\n",
      "  estimator = Estimator() #BackendEstimatorV2(backend=backend)\n"
     ]
    }
   ],
   "execution_count": 17
  },
  {
   "metadata": {
    "ExecuteTime": {
     "end_time": "2024-10-31T07:05:07.826635Z",
     "start_time": "2024-10-31T07:05:07.808932Z"
    }
   },
   "cell_type": "code",
   "source": [
    "\n",
    "from qiskit_algorithms.optimizers import COBYLA\n",
    "\n",
    "optimizer = COBYLA(maxiter=1)"
   ],
   "outputs": [],
   "execution_count": 18
  },
  {
   "metadata": {
    "ExecuteTime": {
     "end_time": "2024-10-31T07:05:10.668253Z",
     "start_time": "2024-10-31T07:05:08.956177Z"
    }
   },
   "cell_type": "code",
   "source": [
    "from qiskit_algorithms import VQE\n",
    "\n",
    "algo = VQE(estimator, ansatz, optimizer)\n",
    "result = algo.compute_minimum_eigenvalue(qubit_op)"
   ],
   "outputs": [],
   "execution_count": 19
  },
  {
   "metadata": {
    "jupyter": {
     "is_executing": true
    },
    "ExecuteTime": {
     "start_time": "2024-11-06T20:41:10.115420Z"
    }
   },
   "cell_type": "code",
   "source": [
    "import numpy as np\n",
    "import matplotlib.pyplot as plt\n",
    "from quantum_algorithms.vqe.energy_calculation import GroundStateEnergyCalculation\n",
    "\n",
    "distances = np.arange(0.25, 2.0, 0.1)\n",
    "calc = GroundStateEnergyCalculation(molecule, n_max_iterations=1000)\n",
    "energies = []\n",
    "for i, d in enumerate(distances):\n",
    "    calc.update_last_atoms_coords((0, 0, d))\n",
    "    energy = calc.run()\n",
    "    energies.append(energy)\n",
    "    print(f\"#{i:0>2} at {d:.2f} Angstrom -> energy: {energy:.3f}\")\n",
    "    \n",
    "fig, ax = plt.subplots()\n",
    "ax.plot(distances, energies)\n",
    "ax.set_xlabel(\"Atomic distance [Angstrom]\")\n",
    "ax.set_ylabel(\"Ground state energy [Hartree]\")\n"
   ],
   "outputs": [
    {
     "name": "stdout",
     "output_type": "stream",
     "text": [
      "#00 at 0.25 Angstrom -> energy: -0.312\n",
      "#01 at 0.35 Angstrom -> energy: -0.789\n",
      "#02 at 0.45 Angstrom -> energy: -0.998\n",
      "#03 at 0.55 Angstrom -> energy: -1.093\n",
      "#04 at 0.65 Angstrom -> energy: -1.130\n",
      "#05 at 0.75 Angstrom -> energy: -1.137\n",
      "#06 at 0.85 Angstrom -> energy: -1.128\n"
     ]
    }
   ],
   "execution_count": null
  },
  {
   "metadata": {
    "ExecuteTime": {
     "end_time": "2024-11-06T20:17:02.963109Z",
     "start_time": "2024-11-06T20:15:02.861206Z"
    }
   },
   "cell_type": "code",
   "source": [
    "from quantum_algorithms.vqe.distance_finder import DistanceFinder\n",
    "\n",
    "# todo: print formatted\n",
    "\n",
    "distance_finder = DistanceFinder(iteration_callback=print, atoms=(\"H\", \"H\"))\n",
    "distance = distance_finder.run()\n",
    "print(f\"=== The distance between the two H atoms of the hydrogen molecule is calculated to be {distance:.3f} Angstrom ===\")"
   ],
   "outputs": [
    {
     "name": "stdout",
     "output_type": "stream",
     "text": [
      "IterationInfo(coords=(0.0, 0.0, 3.0), ground_state_energy=np.float64(-0.9335960990484058))\n",
      "IterationInfo(coords=(1.0, 0.0, 3.0), ground_state_energy=np.float64(-0.933376874926096))\n",
      "IterationInfo(coords=(0.0, 1.0, 3.0), ground_state_energy=np.float64(-0.9333846418274852))\n",
      "IterationInfo(coords=(0.0, 0.0, 4.0), ground_state_energy=np.float64(-0.933166574828394))\n",
      "IterationInfo(coords=(-0.4163334092833842, -0.401583114010936, 2.184280995160862), ground_state_energy=np.float64(-0.9395643024412575))\n",
      "IterationInfo(coords=(-0.44717949085306335, -0.4313363483552773, 1.1851997850994138), ground_state_energy=np.float64(-1.0274034109641161))\n",
      "IterationInfo(coords=(0.4278348680986865, -0.43243575622804775, 0.7011040683960046), ground_state_energy=np.float64(-1.1154990170798156))\n",
      "IterationInfo(coords=(0.7321707152318171, 0.32736404905142935, 0.1265747409922343), ground_state_energy=np.float64(-1.132986929562505))\n",
      "IterationInfo(coords=(1.1649589062572627, -0.20499908057780547, -0.6009442483958701), ground_state_energy=np.float64(-1.0297004841402968))\n",
      "IterationInfo(coords=(1.4246310080807665, 0.6226998728179826, 0.7848113960242058), ground_state_energy=np.float64(-0.9671463403144451))\n",
      "IterationInfo(coords=(0.2682686235223903, 0.48492778845487927, 0.026732278418336447), ground_state_energy=np.float64(-1.0954479885364452))\n",
      "IterationInfo(coords=(0.7875564920436452, 0.17792878982440205, -0.06604280500682966), ground_state_energy=np.float64(-1.133176328595048))\n",
      "IterationInfo(coords=(0.834189685210421, 0.2756725913141334, -0.12846471274286542), ground_state_energy=np.float64(-1.1225978430187404))\n",
      "IterationInfo(coords=(0.8707460519100316, 0.002701453231939266, 0.09167491004112763), ground_state_energy=np.float64(-1.1245835360229903))\n",
      "IterationInfo(coords=(0.5463803379454125, 0.11622532743790334, -0.08899374014907308), ground_state_energy=np.float64(-1.1013152929899164))\n",
      "IterationInfo(coords=(0.888875997392025, 0.2467028770164385, -0.09113230015642934), ground_state_energy=np.float64(-1.1157318349823808))\n",
      "IterationInfo(coords=(0.8087579452576767, 0.13452875242867962, -0.026379407072926825), ground_state_energy=np.float64(-1.1320881949290773))\n",
      "IterationInfo(coords=(0.7943002030294722, 0.1592043686864627, -0.0901359765537374), ground_state_energy=np.float64(-1.132656191821587))\n",
      "IterationInfo(coords=(0.7271106736395448, 0.16255871924245024, -0.06200374970090182), ground_state_energy=np.float64(-1.1371708058269172))\n",
      "IterationInfo(coords=(0.6648305463208868, 0.16047929440968917, -0.05719628326455153), ground_state_energy=np.float64(-1.1350741692458894))\n",
      "IterationInfo(coords=(0.6959706099802158, 0.1615190068260697, -0.05960001648272667), ground_state_energy=np.float64(-1.1370218593901096))\n",
      "IterationInfo(coords=(0.7235208764373742, 0.17406278630030467, -0.07194912159820542), ground_state_energy=np.float64(-1.1371708486868095))\n",
      "IterationInfo(coords=(0.6931271865498053, 0.16938982827973464, -0.06638588707535029), ground_state_energy=np.float64(-1.1370106966961655))\n",
      "IterationInfo(coords=(0.7240816930021814, 0.18437470416522, -0.060223489004273545), ground_state_energy=np.float64(-1.137126517355812))\n",
      "IterationInfo(coords=(0.749564720793099, 0.16817361486102497, -0.08818483319128177), ground_state_energy=np.float64(-1.1361481751188858))\n",
      "IterationInfo(coords=(0.7365427986152365, 0.17111820058066482, -0.0800669773947436), ground_state_energy=np.float64(-1.1367802143423655))\n",
      "IterationInfo(coords=(0.713803942592324, 0.17195599741104783, -0.07088017949171771), ground_state_energy=np.float64(-1.1372995296902686))\n",
      "IterationInfo(coords=(0.7042345516274017, 0.16905465511033146, -0.0707854724986488), ground_state_energy=np.float64(-1.1372615398021595))\n",
      "0.7276924922226267\n"
     ]
    }
   ],
   "execution_count": 3
  },
  {
   "metadata": {},
   "cell_type": "code",
   "outputs": [],
   "execution_count": null,
   "source": ""
  }
 ],
 "metadata": {
  "kernelspec": {
   "display_name": "Python 3",
   "language": "python",
   "name": "python3"
  },
  "language_info": {
   "codemirror_mode": {
    "name": "ipython",
    "version": 2
   },
   "file_extension": ".py",
   "mimetype": "text/x-python",
   "name": "python",
   "nbconvert_exporter": "python",
   "pygments_lexer": "ipython2",
   "version": "2.7.6"
  }
 },
 "nbformat": 4,
 "nbformat_minor": 0
}
