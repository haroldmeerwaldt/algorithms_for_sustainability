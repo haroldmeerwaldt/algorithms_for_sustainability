{
 "cells": [
  {
   "cell_type": "markdown",
   "source": "# WIP: Quantum chemistry with Qiskit Nature: finding the interatomic distance of a hydrogen molecule",
   "metadata": {
    "collapsed": false
   }
  },
  {
   "cell_type": "markdown",
   "source": [
    "Introduction\n",
    "\n",
    "[refs: Sharkey and qiskit-nature documentation]\n",
    "[look at qiskit nature documentation for explanations]"
   ],
   "metadata": {
    "collapsed": false
   }
  },
  {
   "cell_type": "markdown",
   "source": [
    "## MoleculeInfo\n",
    "We start by describing the molecule that we want to look at, in our case a hydrogen molecule:"
   ],
   "metadata": {
    "collapsed": false
   }
  },
  {
   "cell_type": "code",
   "source": [
    "from qiskit_nature.second_q.formats import MoleculeInfo\n",
    "\n",
    "distance = 0.735\n",
    "molecule = MoleculeInfo([\"H\", \"H\"], [(0.0, 0.0, 0.0), (0.0, 0.0, distance)], charge=0, multiplicity=1)"
   ],
   "metadata": {
    "collapsed": false,
    "ExecuteTime": {
     "end_time": "2024-11-06T20:24:35.159575Z",
     "start_time": "2024-11-06T20:24:35.127579Z"
    }
   },
   "outputs": [],
   "execution_count": 6
  },
  {
   "cell_type": "markdown",
   "source": [
    "* The symbols are for the two hydrogen atoms.\n",
    "* We are going to vary the coordinates (in Angstrom) of the second hydrogen atom. We'll use 3 Angstrom as the initial point.\n",
    "* The total charge of the hydrogen atom is 0.\n",
    "* The multiplicity is 2 * S + 1, where S is the spin of the molecule due to unpaired electrons. The hydrogen molecule has no unpaired electrons, so the multiplicity is 1."
   ],
   "metadata": {
    "collapsed": false
   }
  },
  {
   "cell_type": "markdown",
   "source": "Next, we convert the molecule into an electronic structure problem through the PySCFDriver:",
   "metadata": {
    "collapsed": false
   }
  },
  {
   "cell_type": "code",
   "source": [
    "from qiskit_nature.second_q.drivers import PySCFDriver\n",
    "\n",
    "driver = PySCFDriver.from_molecule(molecule)\n",
    "es_problem = driver.run()"
   ],
   "metadata": {
    "collapsed": false,
    "ExecuteTime": {
     "end_time": "2024-10-31T06:44:20.294842Z",
     "start_time": "2024-10-31T06:44:17.198425Z"
    }
   },
   "outputs": [],
   "execution_count": 2
  },
  {
   "cell_type": "markdown",
   "source": [
    "The PySCFDriver is a driver from the PySCF library designed for quantum chemistry calculations using second quantization. Second quantization is a method of describing molecular systems by transitioning from using individual electronic wave functions to representing the system in Fock space. In second quantization, instead of specifying the exact positions of electrons, we describe which eigenstates (or molecular orbitals) the electrons occupy. This framework simplifies the calculations, allowing us to systematically account for the possible interactions and configurations of multiple electrons within a molecule. \n",
    "\n",
    "The returned ElectronicStructureProblem leverages this Fock space representation to construct the Hamiltonian of the molecule, which is the operator describing the total energy of the system. It is called a fermionic operator, since electrons are fermions. We can also get information about the number of particles, the number of spatial orbitals, and the repulsion energy between the nuclei of the atoms. "
   ],
   "metadata": {
    "collapsed": false
   }
  },
  {
   "metadata": {
    "ExecuteTime": {
     "end_time": "2024-10-31T06:50:28.770463Z",
     "start_time": "2024-10-31T06:50:28.739889Z"
    }
   },
   "cell_type": "code",
   "source": [
    "fermionic_op = es_problem.hamiltonian.second_q_op()\n",
    "n_particles = es_problem.num_particles\n",
    "n_spatial_orbitals = es_problem.num_spatial_orbitals\n",
    "nuclear_repulsion_energy = es_problem.nuclear_repulsion_energy"
   ],
   "outputs": [],
   "execution_count": 6
  },
  {
   "cell_type": "markdown",
   "source": [
    "## ParityMapper\n",
    "To do quantum chemistry calculations using quantum computing, fermionice operators (i.e. operators on electrons) need to be converted to operators on qubits. This is done with a mapper, e.g. the ParityMapper. The ParityMapper encodes the occupation of molecular orbitals into qubits in such a way that preserves information about the parity (even or odd count of occupied states) in parts of the system. By keeping track of parity, this mapping can reduce the number of qubits required for certain molecules, as some qubits become redundant and can be removed, leading to more efficient quantum circuits. Other mappers are JordanWignerMapper, BravyiKitaevMapper, and BravyiKitaevSuperFastMapper, each providing different trade-offs in terms of qubit efficiency and circuit complexity. "
   ],
   "metadata": {
    "collapsed": false
   }
  },
  {
   "cell_type": "code",
   "source": [
    "from qiskit_nature.second_q.mappers import ParityMapper\n",
    "\n",
    "mapper = ParityMapper(num_particles=(1, 1))\n",
    "qubit_op = mapper.map(fermionic_op)"
   ],
   "metadata": {
    "collapsed": false,
    "ExecuteTime": {
     "end_time": "2024-10-31T06:53:07.631013Z",
     "start_time": "2024-10-31T06:53:07.384316Z"
    }
   },
   "outputs": [],
   "execution_count": 7
  },
  {
   "cell_type": "markdown",
   "source": [
    "## todo: VQEUCCFactory\n",
    "We are going to calculate the interatomic distance of hydrogen using the Variational Quantum Eigensolver (VQE) algorithm. VQE works in a loop, where each iteration has the following steps:\n",
    " * A quantum circuit (a sequence of qubit operations) is described by a set of parameters\n",
    " * The qubit values are measured after executing the quantum circuit.\n",
    " * Based on the qubit values, new parameters for the quantum circuit are chosen.\n",
    "\n",
    "In our case the qubit values represent the energy of the hydrogen molecule. The goal of the loop is to find the parameters of the quantum circuit that give the lowest energy (ground state energy). The parameters of the quantum circuit model the state of the electrons of the hydrogen molecule. [how does it determine this?]\n"
   ],
   "metadata": {
    "collapsed": false
   }
  },
  {
   "cell_type": "code",
   "source": [
    "from qiskit_nature.second_q.circuit.library import HartreeFock, UCCSD\n",
    "\n",
    "initial_state = HartreeFock(n_spatial_orbitals, n_particles, mapper)\n",
    "ansatz = UCCSD(n_spatial_orbitals, n_particles, mapper, initial_state=initial_state)"
   ],
   "metadata": {
    "collapsed": false,
    "ExecuteTime": {
     "end_time": "2024-10-31T06:53:13.177520Z",
     "start_time": "2024-10-31T06:53:13.065168Z"
    }
   },
   "outputs": [],
   "execution_count": 8
  },
  {
   "cell_type": "markdown",
   "source": [
    "The VQEUCCFactory makes a VQE instance.\n",
    "* an Estimator instance is used to estimate the eigenvalues [how exactly? why?]\n",
    "* the UCCSD constructs a multi-electron wave function as the ansatz, with the sum of single (S) and double (D) excitations [how exactly? what is UCC?]\n",
    "* optimization in the loop is done by the Sequential Least SQuares Programming optimizer"
   ],
   "metadata": {
    "collapsed": false
   }
  },
  {
   "cell_type": "markdown",
   "source": [],
   "metadata": {
    "collapsed": false
   }
  },
  {
   "cell_type": "markdown",
   "source": [
    "\n",
    "\n",
    "\n",
    "\n",
    "\n",
    "VQEUCCFactory and Estimator, UCCSD, SLSQP\n",
    "PySCFDriver\n",
    "ActiveSpaceTransformer\n",
    "GroundStateEigenSolver"
   ],
   "metadata": {
    "collapsed": false
   }
  },
  {
   "cell_type": "code",
   "source": [
    "from qiskit.primitives import Estimator\n",
    "\n",
    "estimator = Estimator()  # todo: move to V2 Estimator once https://github.com/qiskit-community/qiskit-algorithms/issues/136 is fixed"
   ],
   "metadata": {
    "collapsed": false,
    "ExecuteTime": {
     "end_time": "2024-10-31T07:05:01.607255Z",
     "start_time": "2024-10-31T07:05:01.578896Z"
    }
   },
   "outputs": [
    {
     "name": "stderr",
     "output_type": "stream",
     "text": [
      "/tmp/ipykernel_9/2561769255.py:5: DeprecationWarning: The class ``qiskit.primitives.estimator.Estimator`` is deprecated as of qiskit 1.2. It will be removed no earlier than 3 months after the release date. All implementations of the `BaseEstimatorV1` interface have been deprecated in favor of their V2 counterparts. The V2 alternative for the `Estimator` class is `StatevectorEstimator`.\n",
      "  estimator = Estimator() #BackendEstimatorV2(backend=backend)\n"
     ]
    }
   ],
   "execution_count": 17
  },
  {
   "metadata": {
    "ExecuteTime": {
     "end_time": "2024-10-31T07:05:07.826635Z",
     "start_time": "2024-10-31T07:05:07.808932Z"
    }
   },
   "cell_type": "code",
   "source": [
    "\n",
    "from qiskit_algorithms.optimizers import COBYLA\n",
    "\n",
    "optimizer = COBYLA(maxiter=1)"
   ],
   "outputs": [],
   "execution_count": 18
  },
  {
   "metadata": {
    "ExecuteTime": {
     "end_time": "2024-10-31T07:05:10.668253Z",
     "start_time": "2024-10-31T07:05:08.956177Z"
    }
   },
   "cell_type": "code",
   "source": [
    "from qiskit_algorithms import VQE\n",
    "\n",
    "algo = VQE(estimator, ansatz, optimizer)\n",
    "result = algo.compute_minimum_eigenvalue(qubit_op)"
   ],
   "outputs": [],
   "execution_count": 19
  },
  {
   "metadata": {
    "ExecuteTime": {
     "end_time": "2024-11-06T20:42:34.625976Z",
     "start_time": "2024-11-06T20:41:10.115420Z"
    }
   },
   "cell_type": "code",
   "source": [
    "import numpy as np\n",
    "import matplotlib.pyplot as plt\n",
    "from quantum_algorithms.vqe.energy_calculation import GroundStateEnergyCalculation\n",
    "\n",
    "distances = np.arange(0.25, 2.0, 0.1)\n",
    "calc = GroundStateEnergyCalculation(molecule, n_max_iterations=1000)\n",
    "energies = []\n",
    "for i, d in enumerate(distances):\n",
    "    calc.update_last_atoms_coords((0, 0, d))\n",
    "    energy = calc.run()\n",
    "    energies.append(energy)\n",
    "    # todo: replace with tqdm?\n",
    "    print(f\"#{i:0>2} at {d:.2f} Angstrom -> energy: {energy:.3f}\")\n",
    "    \n",
    "fig, ax = plt.subplots()\n",
    "ax.plot(distances, energies)\n",
    "ax.set_xlabel(\"Atomic distance [Angstrom]\")\n",
    "ax.set_ylabel(\"Ground state energy [Hartree]\")\n"
   ],
   "outputs": [
    {
     "name": "stdout",
     "output_type": "stream",
     "text": [
      "#00 at 0.25 Angstrom -> energy: -0.312\n",
      "#01 at 0.35 Angstrom -> energy: -0.789\n",
      "#02 at 0.45 Angstrom -> energy: -0.998\n",
      "#03 at 0.55 Angstrom -> energy: -1.093\n",
      "#04 at 0.65 Angstrom -> energy: -1.130\n",
      "#05 at 0.75 Angstrom -> energy: -1.137\n",
      "#06 at 0.85 Angstrom -> energy: -1.128\n",
      "#07 at 0.95 Angstrom -> energy: -1.111\n",
      "#08 at 1.05 Angstrom -> energy: -1.090\n",
      "#09 at 1.15 Angstrom -> energy: -1.068\n",
      "#10 at 1.25 Angstrom -> energy: -1.046\n",
      "#11 at 1.35 Angstrom -> energy: -1.025\n",
      "#12 at 1.45 Angstrom -> energy: -1.006\n",
      "#13 at 1.55 Angstrom -> energy: -0.990\n",
      "#14 at 1.65 Angstrom -> energy: -0.977\n",
      "#15 at 1.75 Angstrom -> energy: -0.966\n",
      "#16 at 1.85 Angstrom -> energy: -0.958\n",
      "#17 at 1.95 Angstrom -> energy: -0.951\n"
     ]
    },
    {
     "data": {
      "text/plain": [
       "Text(0, 0.5, 'Ground state energy [Hartree]')"
      ]
     },
     "execution_count": 17,
     "metadata": {},
     "output_type": "execute_result"
    },
    {
     "data": {
      "text/plain": [
       "<Figure size 640x480 with 1 Axes>"
      ],
      "image/png": "[encoded data removed]"
     },
     "metadata": {},
     "output_type": "display_data"
    }
   ],
   "execution_count": 17
  },
  {
   "metadata": {
    "ExecuteTime": {
     "end_time": "2024-11-06T20:43:41.815901Z",
     "start_time": "2024-11-06T20:42:34.690665Z"
    }
   },
   "cell_type": "code",
   "source": [
    "from quantum_algorithms.vqe.distance_finder import DistanceFinder\n",
    "\n",
    "# todo: print formatted\n",
    "\n",
    "distance_finder = DistanceFinder(iteration_callback=print, atoms=(\"H\", \"H\"))\n",
    "distance = distance_finder.run()\n",
    "print(f\"=== The distance between the two H atoms of the hydrogen molecule is calculated to be {distance:.3f} Angstrom ===\")"
   ],
   "outputs": [
    {
     "name": "stdout",
     "output_type": "stream",
     "text": [
      "IterationInfo(coords=(0.0, 0.0, 3.0), ground_state_energy=np.float64(-0.9332850847350438))\n",
      "IterationInfo(coords=(1.0, 0.0, 3.0), ground_state_energy=np.float64(-0.9332415915876315))\n",
      "IterationInfo(coords=(0.0, 1.0, 3.0), ground_state_energy=np.float64(-0.9332539940130959))\n",
      "IterationInfo(coords=(0.0, 0.0, 4.0), ground_state_energy=np.float64(-0.9331691336890521))\n",
      "IterationInfo(coords=(-0.3406339880867496, -0.24349943013338016, 2.0918829845857774), ground_state_energy=np.float64(-0.9432128295359181))\n",
      "IterationInfo(coords=(-0.34462136429923995, -0.24634977352078613, 1.0918949964711633), ground_state_energy=np.float64(-1.063168877721067))\n",
      "IterationInfo(coords=(0.5798888085448716, -0.2464476069523049, 0.7107376395483689), ground_state_energy=np.float64(-1.1113748494624063))\n",
      "IterationInfo(coords=(0.5851686226511074, 0.7121509816270251, 0.4260257333401459), ground_state_energy=np.float64(-1.0978688462394972))\n",
      "IterationInfo(coords=(0.6009653220859251, -0.629441220423437, -0.21277287615639495), ground_state_energy=np.float64(-1.0988674238734328))\n",
      "IterationInfo(coords=(1.0525960276700037, -0.31675229398102644, 0.8577244959974332), ground_state_energy=np.float64(-1.0165375276063986))\n",
      "IterationInfo(coords=(0.517132066442469, -0.32291597541996697, 0.48114195155622386), ground_state_energy=np.float64(-1.1359426031703794))\n",
      "IterationInfo(coords=(0.27639407386276027, -0.35673822798480675, 0.4228215077982047), ground_state_energy=np.float64(-1.122306376035442))\n",
      "IterationInfo(coords=(0.5095111232375351, -0.20393168313345422, 0.44359652022636853), ground_state_energy=np.float64(-1.1365326449698419))\n",
      "IterationInfo(coords=(0.6554152335694264, -0.24902423989868952, 0.24566054089811873), ground_state_energy=np.float64(-1.1372517006344283))\n",
      "IterationInfo(coords=(0.7588379664255024, -0.2126725343745478, 0.30572127544296795), ground_state_energy=np.float64(-1.1290024419408735))\n",
      "IterationInfo(coords=(0.6464299592504499, -0.1904826477598494, 0.22570066025562904), ground_state_energy=np.float64(-1.1367820904668602))\n",
      "IterationInfo(coords=(0.5614138587437137, -0.30043625921145145, 0.18127462783431203), ground_state_energy=np.float64(-1.132004905206774))\n",
      "IterationInfo(coords=(0.6084145461565701, -0.27473024955507047, 0.21346758436621538), ground_state_energy=np.float64(-1.1362462539981917))\n",
      "IterationInfo(coords=(0.6747198109379463, -0.25424841009672283, 0.2216479642274486), ground_state_energy=np.float64(-1.136996217541584))\n",
      "IterationInfo(coords=(0.6837009571815058, -0.25033472669622575, 0.3013781365398416), ground_state_energy=np.float64(-1.1351526436907666))\n",
      "IterationInfo(coords=(0.6695580953754662, -0.24967948329745762, 0.27351933871898015), ground_state_energy=np.float64(-1.1365727092258209))\n",
      "IterationInfo(coords=(0.653221724291487, -0.23386305153070927, 0.2425836090954598), ground_state_energy=np.float64(-1.1373060314623573))\n",
      "IterationInfo(coords=(0.647110399390733, -0.23566478728687718, 0.23806247953832793), ground_state_energy=np.float64(-1.1372729316279546))\n",
      "IterationInfo(coords=(0.6500412547651795, -0.22584285375084703, 0.25561056830181805), ground_state_energy=np.float64(-1.1373055238838043))\n",
      "IterationInfo(coords=(0.6652672900101487, -0.22437176673595965, 0.23959020226337774), ground_state_energy=np.float64(-1.137265190195977))\n",
      "IterationInfo(coords=(0.6446878043347487, -0.23066023898451168, 0.2384709211707683), ground_state_energy=np.float64(-1.1372221959907016))\n",
      "=== The distance between the two H atoms of the hydrogen molecule is calculated to be 0.725 Angstrom ===\n"
     ]
    }
   ],
   "execution_count": 18
  },
  {
   "metadata": {},
   "cell_type": "code",
   "outputs": [],
   "execution_count": null,
   "source": ""
  }
 ],
 "metadata": {
  "kernelspec": {
   "display_name": "Python 3",
   "language": "python",
   "name": "python3"
  },
  "language_info": {
   "codemirror_mode": {
    "name": "ipython",
    "version": 2
   },
   "file_extension": ".py",
   "mimetype": "text/x-python",
   "name": "python",
   "nbconvert_exporter": "python",
   "pygments_lexer": "ipython2",
   "version": "2.7.6"
  }
 },
 "nbformat": 4,
 "nbformat_minor": 0
}
