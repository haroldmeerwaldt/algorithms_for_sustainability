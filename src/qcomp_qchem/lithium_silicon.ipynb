{
 "cells": [
  {
   "cell_type": "markdown",
   "metadata": {},
   "source": [
    "rewrite with qiskit-nature 0.5:\n",
    "https://qiskit.org/documentation/nature/migration/00b_Electronic_structure_with_v0.5.html"
   ]
  },
  {
   "cell_type": "code",
   "execution_count": 1,
   "metadata": {},
   "outputs": [],
   "source": [
    "from qiskit_nature.second_q.formats.molecule_info import MoleculeInfo\n",
    "molecule = MoleculeInfo([\"H\", \"H\"], [(0.0, 0.0, 0.0), (0.0, 0.0, 0.735)], charge=0, multiplicity=1)"
   ]
  },
  {
   "cell_type": "code",
   "execution_count": 2,
   "metadata": {},
   "outputs": [
    {
     "data": {
      "text/plain": [
       "<qiskit_nature.second_q.problems.electronic_structure_problem.ElectronicStructureProblem at 0x7fa928784c70>"
      ]
     },
     "execution_count": 2,
     "metadata": {},
     "output_type": "execute_result"
    }
   ],
   "source": [
    "from qiskit_nature.second_q.drivers import PySCFDriver\n",
    "\n",
    "driver = PySCFDriver.from_molecule(molecule, basis=\"sto3g\")\n",
    "problem = driver.run()\n",
    "problem"
   ]
  },
  {
   "cell_type": "code",
   "execution_count": 3,
   "metadata": {},
   "outputs": [],
   "source": [
    "hamiltonian = problem.hamiltonian\n",
    "operators_secq = problem.second_q_ops()"
   ]
  },
  {
   "cell_type": "code",
   "execution_count": 4,
   "metadata": {},
   "outputs": [],
   "source": [
    "# particle_number = hamiltonian.grouped_property_transformed.get_property(\"ParticleNumber\")\n",
    "# print(f\"Hydrogen: {particle_number.num_alpha} alpha (spin up) electron, \"\n",
    "#       f\"{particle_number.num_beta} beta (spin down) electron, {particle_number.num_spin_orbitals} spin orbitals\")"
   ]
  },
  {
   "cell_type": "code",
   "execution_count": 5,
   "metadata": {},
   "outputs": [],
   "source": [
    "# electronic_energy = hamiltonian.grouped_property_transformed.get_property(\"ElectronicEnergy\")\n",
    "# print(electronic_energy)"
   ]
  },
  {
   "cell_type": "code",
   "execution_count": 6,
   "metadata": {},
   "outputs": [],
   "source": [
    "# electronic_energy_operator = operators_secq[\"ElectronicEnergy\"]\n",
    "# electronic_energy_operator.set_truncation(0)\n",
    "# print(electronic_energy_operator.to_matrix())"
   ]
  },
  {
   "cell_type": "code",
   "execution_count": 7,
   "metadata": {},
   "outputs": [],
   "source": [
    "# from qiskit_nature.converters.second_quantization import QubitConverter\n",
    "# from qiskit_nature.operators.second_quantization import FermionicOp\n",
    "# from qiskit_nature.mappers.second_quantization import JordanWignerMapper\n",
    "# converter = JordanWignerMapper()\n",
    "# qubit_converter = QubitConverter(converter)\n",
    "# for label in [\"+_0\", \"+_1\", \"+_2\", \"+_3\", \"+_4\"]:\n",
    "#     fermionic_operator = FermionicOp(label)\n",
    "#     qubit_operator = qubit_converter.convert(fermionic_operator)\n",
    "#     print(f\"{label}: {qubit_operator}\")"
   ]
  },
  {
   "cell_type": "code",
   "execution_count": 8,
   "metadata": {},
   "outputs": [],
   "source": [
    "from qiskit_nature.second_q.mappers import QubitConverter, JordanWignerMapper\n",
    "converter = JordanWignerMapper()  # also ParityMapper, BravyiKitaevMapper\n",
    "qubit_converter = QubitConverter(converter, two_qubit_reduction=True)\n",
    "# qubit_operator = qubit_converter.convert(electronic_energy_operator)\n",
    "# print(qubit_operator)"
   ]
  },
  {
   "cell_type": "code",
   "execution_count": 9,
   "metadata": {},
   "outputs": [],
   "source": [
    "# import os\n",
    "# from pyscf import gto, scf\n",
    "# from contextlib import suppress\n",
    "\n",
    "# for filename in ['mf.hdf5','optimized_wf.hdf5','vmc_data.hdf5','dmc.hdf5']:\n",
    "#     with suppress(FileNotFoundError):\n",
    "#         os.remove(filename)\n",
    "\n",
    "# atom_pyscf = [\" \".join([str(val) for val in [name, *coordinates]]) for name, coordinates in molecule.geometry]\n",
    "# molecule_pyscf = gto.M(atom=atom_pyscf)\n",
    "# mf = scf.RHF(molecule_pyscf)\n",
    "# mf.chkfile = \"mf.hdf5\"\n",
    "\n",
    "# converged, ground_state_energy, mo_e, mo, mo_occ = scf.hf.kernel(mf)\n",
    "# if converged:\n",
    "#   print(f\"PySCF restricted HF (RHF) converged ground-state energy: {ground_state_energy:.12f}\")\n",
    "# else:\n",
    "#   print(\"PySCF restricted HF (RHF) ground-state computation failed to converge\")"
   ]
  },
  {
   "cell_type": "code",
   "execution_count": 10,
   "metadata": {},
   "outputs": [],
   "source": [
    "# import pyqmc.api as pyq\n",
    "# import h5py\n",
    "\n",
    "# pyq.OPTIMIZE(\"mf.hdf5\",  # Construct a Slater-Jastrow wave function from the pyscf output\n",
    "#     \"optimized_wf.hdf5\", # Store optimized parameters in this file.\n",
    "#     nconfig=100,         # Optimize using this many Monte Carlo samples/configurations\n",
    "#     max_iterations=4,    # 4 optimization steps\n",
    "#     verbose=False)\n",
    "\n",
    "# with h5py.File(\"optimized_wf.hdf5\") as f:\n",
    "#     energies = f['energy']\n",
    "#     errors = f['energy_error']\n",
    "#     final_energy = energies[-1]\n",
    "#     final_error = errors[-1]\n",
    "\n",
    "#     if final_error < 0.1:\n",
    "#         print(\"Iteration, Energy, Error\")\n",
    "#         for k, (energy, error) in enumerate(zip(energies, errors)):\n",
    "#             print(f\"{k:>2}:        {energy:.4f} {error:.4f}\")\n",
    "#         print(f\"PyQMC Monte Carlo converged ground-state energy: {final_energy:.12f}, error: {final_error:.4f}\")\n",
    "#     else:\n",
    "#         print(\"PyQMC Monte Carlo failed to converge\")"
   ]
  },
  {
   "cell_type": "code",
   "execution_count": 11,
   "metadata": {},
   "outputs": [],
   "source": [
    "# from qiskit import QuantumCircuit\n",
    "# import numpy as np\n",
    "# def u(theta):\n",
    "#     unitary = QuantumCircuit(1)\n",
    "#     unitary.p(np.pi*2*theta, 0)\n",
    "#     return unitary"
   ]
  },
  {
   "cell_type": "code",
   "execution_count": 12,
   "metadata": {},
   "outputs": [],
   "source": [
    "# from qiskit.algorithms import PhaseEstimation\n",
    "# from qiskit.utils import QuantumInstance\n",
    "# from qiskit import Aer\n",
    "\n",
    "# n_qubits = 3\n",
    "# quantum_instance = QuantumInstance(backend=Aer.get_backend('aer_simulator_statevector'))\n",
    "# phase_estimation = PhaseEstimation(num_evaluation_qubits=n_qubits, quantum_instance=quantum_instance)\n",
    "\n",
    "# state_in = QuantumCircuit(1)\n",
    "# state_in.x(0)\n",
    "# unitary = u(1/2 + 1/4 + 1/8)\n",
    "\n",
    "# result = phase_estimation.estimate(unitary, state_in)\n",
    "\n",
    "# print(f\"Number of qubits: {n_qubits}, QPE phase estimate: {result.phase}\")"
   ]
  },
  {
   "cell_type": "code",
   "execution_count": 13,
   "metadata": {},
   "outputs": [],
   "source": [
    "from qiskit_nature.second_q.algorithms import NumPyMinimumEigensolverFactory, VQEUCCFactory\n",
    "# from qiskit.algorithms import VQE\n",
    "# from qiskit.circuit.library import TwoLocal\n",
    "from qiskit.primitives import Estimator\n",
    "from qiskit.algorithms.optimizers import SLSQP\n",
    "from qiskit_nature.second_q.circuit.library import UCCSD\n",
    "\n",
    "numpy_solver_factory = NumPyMinimumEigensolverFactory()\n",
    "# ansatz?\n",
    "# two_local_circuit = TwoLocal(rotation_blocks=['h', 'rx'], entanglement_blocks='cz',\n",
    "#                       entanglement='full', reps=2, parameter_prefix='y')\n",
    "vqe_ucc_solver_factory = VQEUCCFactory(estimator=Estimator(), ansatz=UCCSD(), optimizer=SLSQP())\n",
    "\n",
    "\n",
    "qnspsa_loss = []\n",
    "def qnspsa_callback(nfev, x, fx, stepsize, accepted):\n",
    "    qnspsa_loss.append(fx)\n",
    "\n"
   ]
  },
  {
   "cell_type": "code",
   "execution_count": 14,
   "metadata": {},
   "outputs": [
    {
     "name": "stdout",
     "output_type": "stream",
     "text": [
      "=== GROUND STATE ENERGY ===\n",
      " \n",
      "* Electronic ground state energy (Hartree): -1.857275030202\n",
      "  - computed part:      -1.857275030202\n",
      "  - ActiveSpaceTransformer extracted energy part: 0.0\n",
      "~ Nuclear repulsion energy (Hartree): 0.719968994449\n",
      "> Total ground state energy (Hartree): -1.137306035753\n",
      " \n",
      "=== MEASURED OBSERVABLES ===\n",
      " \n",
      "  0:  # Particles: 2.000 S: 0.000 S^2: 0.000 M: 0.000\n",
      " \n",
      "=== DIPOLE MOMENTS ===\n",
      " \n",
      "~ Nuclear dipole moment (a.u.): [0.0  0.0  1.3889487]\n",
      " \n",
      "  0: \n",
      "  * Electronic dipole moment (a.u.): [0.0  0.0  1.3889487]\n",
      "    - computed part:      [0.0  0.0  1.3889487]\n",
      "    - ActiveSpaceTransformer extracted energy part: [0.0  0.0  0.0]\n",
      "  > Dipole moment (a.u.): [0.0  0.0  0.0]  Total: 0.0\n",
      "                 (debye): [0.0  0.0  0.0]  Total: 0.0\n",
      " \n"
     ]
    }
   ],
   "source": [
    "from qiskit_nature.second_q.algorithms import GroundStateEigensolver\n",
    "from qiskit_nature.second_q.transformers import ActiveSpaceTransformer\n",
    "import qiskit_nature.settings\n",
    "from contextlib import contextmanager\n",
    "\n",
    "# n_electrons = (particle_number.num_alpha, particle_number.num_beta)\n",
    "# n_molecular_orbitals = particle_number.num_spin_orbitals // 2\n",
    "\n",
    "n_electrons = 2\n",
    "n_spatial_orbitals = 2\n",
    "\n",
    "transformer = ActiveSpaceTransformer(num_electrons=n_electrons, num_spatial_orbitals=n_spatial_orbitals)\n",
    "problem_transformed = transformer.transform(problem)\n",
    "\n",
    "numpy_solver = numpy_solver_factory.get_solver(problem, qubit_converter)\n",
    "\n",
    "ground_state_eigen_solver = GroundStateEigensolver(qubit_converter, numpy_solver)\n",
    "ground_state = ground_state_eigen_solver.solve(problem_transformed)\n",
    "\n",
    "print(ground_state)"
   ]
  },
  {
   "cell_type": "code",
   "execution_count": 15,
   "metadata": {},
   "outputs": [
    {
     "name": "stdout",
     "output_type": "stream",
     "text": [
      "=== GROUND STATE ENERGY ===\n",
      " \n",
      "* Electronic ground state energy (Hartree): -1.857275030145\n",
      "  - computed part:      -1.857275030145\n",
      "  - ActiveSpaceTransformer extracted energy part: 0.0\n",
      "~ Nuclear repulsion energy (Hartree): 0.719968994449\n",
      "> Total ground state energy (Hartree): -1.137306035696\n",
      " \n",
      "=== MEASURED OBSERVABLES ===\n",
      " \n",
      "  0:  # Particles: 2.000 S: 0.000 S^2: 0.000 M: 0.000\n",
      " \n",
      "=== DIPOLE MOMENTS ===\n",
      " \n",
      "~ Nuclear dipole moment (a.u.): [0.0  0.0  1.3889487]\n",
      " \n",
      "  0: \n",
      "  * Electronic dipole moment (a.u.): [0.0  0.0  1.38894874]\n",
      "    - computed part:      [0.0  0.0  1.38894874]\n",
      "    - ActiveSpaceTransformer extracted energy part: [0.0  0.0  0.0]\n",
      "  > Dipole moment (a.u.): [0.0  0.0  -0.00000004]  Total: 0.00000004\n",
      "                 (debye): [0.0  0.0  -0.00000009]  Total: 0.00000009\n",
      " \n"
     ]
    }
   ],
   "source": [
    "vqe_ucc_solver = vqe_ucc_solver_factory.get_solver(problem, qubit_converter)\n",
    "\n",
    "ground_state_eigen_solver_vqe_ucc = GroundStateEigensolver(qubit_converter, vqe_ucc_solver)\n",
    "ground_state = ground_state_eigen_solver_vqe_ucc.solve(problem_transformed)\n",
    "\n",
    "print(ground_state)"
   ]
  },
  {
   "cell_type": "code",
   "execution_count": null,
   "metadata": {},
   "outputs": [],
   "source": []
  }
 ],
 "metadata": {
  "kernelspec": {
   "display_name": "Python 3 (ipykernel)",
   "language": "python",
   "name": "python3"
  },
  "language_info": {
   "codemirror_mode": {
    "name": "ipython",
    "version": 3
   },
   "file_extension": ".py",
   "mimetype": "text/x-python",
   "name": "python",
   "nbconvert_exporter": "python",
   "pygments_lexer": "ipython3",
   "version": "3.9.15"
  }
 },
 "nbformat": 4,
 "nbformat_minor": 1
}
