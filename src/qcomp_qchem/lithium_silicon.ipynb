{
 "cells": [
  {
   "cell_type": "code",
   "execution_count": 14,
   "metadata": {},
   "outputs": [],
   "source": [
    "from qiskit_nature.drivers import Molecule\n",
    "molecule = Molecule(geometry=[['H', [0., 0., 0.]],\n",
    "                              ['H', [0., 0., 0.735]]],\n",
    "                     charge=0, multiplicity=1)"
   ]
  },
  {
   "cell_type": "code",
   "execution_count": 15,
   "metadata": {},
   "outputs": [],
   "source": [
    "from qiskit_nature.drivers.second_quantization import ElectronicStructureDriverType, ElectronicStructureMoleculeDriver\n",
    "driver = ElectronicStructureMoleculeDriver(molecule, basis='sto3g', driver_type=ElectronicStructureDriverType.PYSCF)\n",
    "_ = driver.run()"
   ]
  },
  {
   "cell_type": "code",
   "execution_count": 22,
   "metadata": {},
   "outputs": [],
   "source": [
    "from qiskit_nature.problems.second_quantization import ElectronicStructureProblem\n",
    "hamiltonian = ElectronicStructureProblem(driver)\n",
    "operators_secq = hamiltonian.second_q_ops()"
   ]
  },
  {
   "cell_type": "code",
   "execution_count": 34,
   "metadata": {},
   "outputs": [
    {
     "name": "stdout",
     "output_type": "stream",
     "text": [
      "Hydrogen: 1 alpha (spin up) electron, 1 beta (spin down) electron, 4 spin orbitals\n"
     ]
    }
   ],
   "source": [
    "particle_number = hamiltonian.grouped_property_transformed.get_property(\"ParticleNumber\")\n",
    "print(f\"Hydrogen: {particle_number.num_alpha} alpha (spin up) electron, \"\n",
    "      f\"{particle_number.num_beta} beta (spin down) electron, {particle_number.num_spin_orbitals} spin orbitals\")"
   ]
  },
  {
   "cell_type": "code",
   "execution_count": 20,
   "metadata": {},
   "outputs": [
    {
     "name": "stdout",
     "output_type": "stream",
     "text": [
      "ElectronicEnergy\n",
      "\t(AO) 1-Body Terms:\n",
      "\t\tAlpha\n",
      "\t\t<(2, 2) matrix with 4 non-zero entries>\n",
      "\t\t[0, 0] = -1.1242175791954514\n",
      "\t\t[0, 1] = -0.9652573993472754\n",
      "\t\t[1, 0] = -0.9652573993472754\n",
      "\t\t[1, 1] = -1.1242175791954514\n",
      "\t\tBeta\n",
      "\t\tSame values as the corresponding primary-spin data.\n",
      "\t(AO) 2-Body Terms:\n",
      "\t\tAlpha-Alpha\n",
      "\t\t<(2, 2, 2, 2) matrix with 16 non-zero entries>\n",
      "\t\t[0, 0, 0, 0] = 0.7746059439198978\n",
      "\t\t[0, 0, 0, 1] = 0.4474457245330949\n",
      "\t\t[0, 0, 1, 0] = 0.447445724533095\n",
      "\t\t[0, 0, 1, 1] = 0.5718769760004512\n",
      "\t\t[0, 1, 0, 0] = 0.4474457245330951\n",
      "\t\t... skipping 11 entries\n",
      "\t\tBeta-Alpha\n",
      "\t\tSame values as the corresponding primary-spin data.\n",
      "\t\tBeta-Beta\n",
      "\t\tSame values as the corresponding primary-spin data.\n",
      "\t\tAlpha-Beta\n",
      "\t\tSame values as the corresponding primary-spin data.\n",
      "\t(MO) 1-Body Terms:\n",
      "\t\tAlpha\n",
      "\t\t<(2, 2) matrix with 2 non-zero entries>\n",
      "\t\t[0, 0] = -1.2563390730032498\n",
      "\t\t[1, 1] = -0.47189600728114245\n",
      "\t\tBeta\n",
      "\t\tSame values as the corresponding primary-spin data.\n",
      "\t(MO) 2-Body Terms:\n",
      "\t\tAlpha-Alpha\n",
      "\t\t<(2, 2, 2, 2) matrix with 8 non-zero entries>\n",
      "\t\t[0, 0, 0, 0] = 0.6757101548035163\n",
      "\t\t[0, 0, 1, 1] = 0.6645817302552965\n",
      "\t\t[0, 1, 0, 1] = 0.1809311997842313\n",
      "\t\t[0, 1, 1, 0] = 0.1809311997842311\n",
      "\t\t[1, 0, 0, 1] = 0.18093119978423147\n",
      "\t\t... skipping 3 entries\n",
      "\t\tBeta-Alpha\n",
      "\t\tSame values as the corresponding primary-spin data.\n",
      "\t\tBeta-Beta\n",
      "\t\tSame values as the corresponding primary-spin data.\n",
      "\t\tAlpha-Beta\n",
      "\t\tSame values as the corresponding primary-spin data.\n"
     ]
    }
   ],
   "source": [
    "electronic_energy = hamiltonian.grouped_property_transformed.get_property(\"ElectronicEnergy\")\n",
    "print(electronic_energy)"
   ]
  },
  {
   "cell_type": "code",
   "execution_count": 30,
   "metadata": {},
   "outputs": [
    {
     "name": "stdout",
     "output_type": "stream",
     "text": [
      "  (1, 1)\t(-0.47189600728114245+0j)\n",
      "  (2, 2)\t(-1.2563390730032498+0j)\n",
      "  (3, 3)\t(-1.244584549813327+0j)\n",
      "  (4, 4)\t(-0.47189600728114245+0j)\n",
      "  (5, 5)\t(-0.24521829183026678+0j)\n",
      "  (10, 5)\t(0.1809311997842311+0j)\n",
      "  (6, 6)\t(-1.063653350029096+0j)\n",
      "  (9, 6)\t(0.18093119978423128-0j)\n",
      "  (7, 7)\t(-0.3533251041071551+0j)\n",
      "  (8, 8)\t(-1.2563390730032498+0j)\n",
      "  (6, 9)\t(0.18093119978423128-0j)\n",
      "  (9, 9)\t(-1.063653350029096+0j)\n",
      "  (5, 10)\t(0.18093119978423147+0j)\n",
      "  (10, 10)\t(-1.8369679912029833+0j)\n",
      "  (11, 11)\t(-1.1606317377577642+0j)\n",
      "  (12, 12)\t(-1.244584549813327+0j)\n",
      "  (13, 13)\t(-0.353325104107155+0j)\n",
      "  (14, 14)\t(-1.1606317377577642+0j)\n",
      "  (15, 15)\t(0.21427823841947302+0j)\n"
     ]
    }
   ],
   "source": [
    "electronic_energy_operator = operators_secq[\"ElectronicEnergy\"]\n",
    "electronic_energy_operator.set_truncation(0)\n",
    "print(electronic_energy_operator.to_matrix())"
   ]
  },
  {
   "cell_type": "code",
   "execution_count": 37,
   "metadata": {},
   "outputs": [
    {
     "name": "stdout",
     "output_type": "stream",
     "text": [
      "+_0: 0.5 * X\n",
      "+ -0.5j * Y\n",
      "+_1: 0.5 * XZ\n",
      "+ -0.5j * YZ\n",
      "+_2: 0.5 * XZZ\n",
      "+ -0.5j * YZZ\n",
      "+_3: 0.5 * XZZZ\n",
      "+ -0.5j * YZZZ\n",
      "+_4: 0.5 * XZZZZ\n",
      "+ -0.5j * YZZZZ\n"
     ]
    }
   ],
   "source": [
    "# from qiskit_nature.converters.second_quantization import QubitConverter\n",
    "# from qiskit_nature.operators.second_quantization import FermionicOp\n",
    "# from qiskit_nature.mappers.second_quantization import JordanWignerMapper\n",
    "# converter = JordanWignerMapper()\n",
    "# qubit_converter = QubitConverter(converter)\n",
    "# for label in [\"+_0\", \"+_1\", \"+_2\", \"+_3\", \"+_4\"]:\n",
    "#     fermionic_operator = FermionicOp(label)\n",
    "#     qubit_operator = qubit_converter.convert(fermionic_operator)\n",
    "#     print(f\"{label}: {qubit_operator}\")"
   ]
  },
  {
   "cell_type": "code",
   "execution_count": 48,
   "metadata": {},
   "outputs": [
    {
     "name": "stdout",
     "output_type": "stream",
     "text": [
      "-0.8105479805373279 * IIII\n",
      "+ 0.1721839326191554 * IIIZ\n",
      "- 0.22575349222402372 * IIZI\n",
      "+ 0.17218393261915543 * IZII\n",
      "- 0.2257534922240237 * ZIII\n",
      "+ 0.12091263261776627 * IIZZ\n",
      "+ 0.16892753870087907 * IZIZ\n",
      "+ 0.045232799946057826 * YYYY\n",
      "+ 0.045232799946057826 * XXYY\n",
      "+ 0.045232799946057826 * YYXX\n",
      "+ 0.045232799946057826 * XXXX\n",
      "+ 0.1661454325638241 * ZIIZ\n",
      "+ 0.1661454325638241 * IZZI\n",
      "+ 0.17464343068300453 * ZIZI\n",
      "+ 0.12091263261776627 * ZZII\n"
     ]
    }
   ],
   "source": [
    "from qiskit_nature.converters.second_quantization import QubitConverter\n",
    "from qiskit_nature.mappers.second_quantization import JordanWignerMapper\n",
    "converter = JordanWignerMapper()  # also ParityMapper, BravyiKitaevMapper\n",
    "qubit_converter = QubitConverter(converter, two_qubit_reduction=True)\n",
    "qubit_operator = qubit_converter.convert(electronic_energy_operator)\n",
    "print(qubit_operator)"
   ]
  },
  {
   "cell_type": "code",
   "execution_count": 47,
   "metadata": {},
   "outputs": [],
   "source": [
    "from pyscf import gto\n",
    "atom_PySCF = [\" \".join([str(val) for val in [name, *coordinates]]) for name, coordinates in molecule.geometry]\n",
    "molecule_PySCF = gto.M(atom=atom_PySCF)"
   ]
  },
  {
   "cell_type": "code",
   "execution_count": 43,
   "metadata": {},
   "outputs": [
    {
     "data": {
      "text/plain": [
       "['H 0.0 0.0 0.0', 'H 0.0 0.0 0.735']"
      ]
     },
     "execution_count": 43,
     "metadata": {},
     "output_type": "execute_result"
    }
   ],
   "source": []
  },
  {
   "cell_type": "code",
   "execution_count": 44,
   "metadata": {},
   "outputs": [
    {
     "data": {
      "text/plain": [
       "[['H', [0.0, 0.0, 0.0]], ['H', [0.0, 0.0, 0.735]]]"
      ]
     },
     "execution_count": 44,
     "metadata": {},
     "output_type": "execute_result"
    }
   ],
   "source": []
  },
  {
   "cell_type": "code",
   "execution_count": 46,
   "metadata": {},
   "outputs": [
    {
     "data": {
      "text/plain": [
       "['H 0.0 0.0 0.0', 'H 0.0 0.0 0.735']"
      ]
     },
     "execution_count": 46,
     "metadata": {},
     "output_type": "execute_result"
    }
   ],
   "source": []
  },
  {
   "cell_type": "code",
   "execution_count": null,
   "metadata": {},
   "outputs": [],
   "source": []
  }
 ],
 "metadata": {
  "kernelspec": {
   "display_name": "Python 3 (ipykernel)",
   "language": "python",
   "name": "python3"
  },
  "language_info": {
   "codemirror_mode": {
    "name": "ipython",
    "version": 3
   },
   "file_extension": ".py",
   "mimetype": "text/x-python",
   "name": "python",
   "nbconvert_exporter": "python",
   "pygments_lexer": "ipython3",
   "version": "3.9.15"
  }
 },
 "nbformat": 4,
 "nbformat_minor": 1
}
