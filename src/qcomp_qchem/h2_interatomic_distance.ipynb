{
 "cells": [
  {
   "cell_type": "markdown",
   "source": [
    "# Quantum chemistry with Qiskit Nature: finding the interatomic distance of a hydrogen molecule"
   ],
   "metadata": {
    "collapsed": false
   }
  },
  {
   "cell_type": "markdown",
   "source": [
    "Introduction\n",
    "\n",
    "[refs: Sharkey and qiskit-nature documentation]\n",
    "[look at qiskit nature documentation for explanations]"
   ],
   "metadata": {
    "collapsed": false
   }
  },
  {
   "cell_type": "markdown",
   "source": [
    "## MoleculeInfo\n",
    "We start by describing the molecule that we want to look at, in our case a hydrogen molecule:"
   ],
   "metadata": {
    "collapsed": false
   }
  },
  {
   "cell_type": "code",
   "source": [
    "distance = 0.735\n",
    "molecule = f\"H 0.0 0.0 0.0; H 0.0 0.0 {distance}\"\n"
   ],
   "metadata": {
    "collapsed": false,
    "ExecuteTime": {
     "end_time": "2024-10-31T06:48:23.466953Z",
     "start_time": "2024-10-31T06:48:21.649991Z"
    }
   },
   "outputs": [],
   "execution_count": 4
  },
  {
   "cell_type": "markdown",
   "source": [
    "* The symbols are for the two hydrogen atoms.\n",
    "* We are going to vary the coordinates (in Angstrom) of the second hydrogen atom. We'll use 3 Angstrom as the initial point.\n",
    "* The total charge of the hydrogen atom is 0.\n",
    "* The multiplicity is 2 * S + 1, where S is the spin of the molecule due to unpaired electrons. The hydrogen molecule has no unpaired electrons, so the multiplicity is 1."
   ],
   "metadata": {
    "collapsed": false
   }
  },
  {
   "cell_type": "markdown",
   "source": [
    "Next, we convert the molecule into electronic structure problem through the PySCFDriver:"
   ],
   "metadata": {
    "collapsed": false
   }
  },
  {
   "cell_type": "code",
   "source": [
    "from qiskit_nature.second_q.drivers import PySCFDriver\n",
    "\n",
    "driver = PySCFDriver(molecule)\n",
    "es_problem = driver.run()"
   ],
   "metadata": {
    "collapsed": false,
    "ExecuteTime": {
     "end_time": "2024-10-31T06:44:20.294842Z",
     "start_time": "2024-10-31T06:44:17.198425Z"
    }
   },
   "outputs": [],
   "execution_count": 2
  },
  {
   "cell_type": "markdown",
   "source": [
    "PySCFDriver is a driver from the PySCF library for second quantization. Second quantization means converting the description of the molecule from using electronic wave functions to using Fock space. Electronic wave functions give the probability density to find an electron at a certain set of coordinates. Wave functions can be built up from eigenfunctions, functions with an allowed energy. Using these eigenfunctions, the electronic configuration can the also be described in Fock space, where we no longer look at the position we may find the electron, but at which one of the eigenstates the electron is in. [check and improve, eigenstates/functions]"
   ],
   "metadata": {
    "collapsed": false
   }
  },
  {
   "metadata": {
    "ExecuteTime": {
     "end_time": "2024-10-31T06:50:28.770463Z",
     "start_time": "2024-10-31T06:50:28.739889Z"
    }
   },
   "cell_type": "code",
   "source": [
    "fermionic_op = es_problem.hamiltonian.second_q_op()\n",
    "n_particles = es_problem.num_particles\n",
    "n_spatial_orbitals = es_problem.num_spatial_orbitals\n",
    "nuclear_repulsion_energy = es_problem.nuclear_repulsion_energy"
   ],
   "outputs": [],
   "execution_count": 6
  },
  {
   "cell_type": "markdown",
   "source": [
    "## QubitConverter\n",
    "To do quantum chemistry calculations using quantum computing, operators on electrons need to be converted to operators on qubits. This is done with a QubitConverter object:"
   ],
   "metadata": {
    "collapsed": false
   }
  },
  {
   "cell_type": "code",
   "source": [
    "from qiskit_nature.second_q.mappers import ParityMapper\n",
    "\n",
    "mapper = ParityMapper(num_particles=(1, 1))\n",
    "qubit_op = mapper.map(fermionic_op)"
   ],
   "metadata": {
    "collapsed": false,
    "ExecuteTime": {
     "end_time": "2024-10-31T06:53:07.631013Z",
     "start_time": "2024-10-31T06:53:07.384316Z"
    }
   },
   "outputs": [],
   "execution_count": 7
  },
  {
   "cell_type": "markdown",
   "source": [
    "* The specific mapper chosen uses the Jordan-Wigner transformation [why? how does it work?]. Other possible mappers are ParityMapper and BravyiKitaevMapper. [why not these? how do they work?]"
   ],
   "metadata": {
    "collapsed": false
   }
  },
  {
   "cell_type": "markdown",
   "source": [
    "## VQEUCCFactory\n",
    "We are going to calculate the interatomic distance of hydrogen using the Variational Quantum Eigensolver (VQE) algorithm. VQE works in a loop, where each iteration has the following steps:\n",
    " * A quantum circuit (a sequence of qubit operations) is described by a set of parameters\n",
    " * The qubit values are measured after executing the quantum circuit.\n",
    " * Based on the qubit values, new parameters for the quantum circuit are chosen.\n",
    "\n",
    "In our case the qubit values represent the energy of the hydrogen molecule. The goal of the loop is to find the parameters of the quantum circuit that give the lowest energy (ground state energy). The parameters of the quantum circuit model the state of the electrons of the hydrogen molecule. [how does it determine this?]\n"
   ],
   "metadata": {
    "collapsed": false
   }
  },
  {
   "cell_type": "code",
   "source": [
    "from qiskit_nature.second_q.circuit.library import HartreeFock, UCCSD\n",
    "\n",
    "initial_state = HartreeFock(n_spatial_orbitals, n_particles, mapper)\n",
    "ansatz = UCCSD(n_spatial_orbitals, n_particles, mapper, initial_state=initial_state)"
   ],
   "metadata": {
    "collapsed": false,
    "ExecuteTime": {
     "end_time": "2024-10-31T06:53:13.177520Z",
     "start_time": "2024-10-31T06:53:13.065168Z"
    }
   },
   "outputs": [],
   "execution_count": 8
  },
  {
   "cell_type": "markdown",
   "source": [
    "The VQEUCCFactory makes a VQE instance.\n",
    "* an Estimator instance is used to estimate the eigenvalues [how exactly? why?]\n",
    "* the UCCSD constructs a multi-electron wave function as the ansatz, with the sum of single (S) and double (D) excitations [how exactly? what is UCC?]\n",
    "* optimization in the loop is done by the Sequential Least SQuares Programming optimizer"
   ],
   "metadata": {
    "collapsed": false
   }
  },
  {
   "cell_type": "markdown",
   "source": [],
   "metadata": {
    "collapsed": false
   }
  },
  {
   "cell_type": "markdown",
   "source": [
    "\n",
    "\n",
    "\n",
    "\n",
    "\n",
    "VQEUCCFactory and Estimator, UCCSD, SLSQP\n",
    "PySCFDriver\n",
    "ActiveSpaceTransformer\n",
    "GroundStateEigenSolver"
   ],
   "metadata": {
    "collapsed": false
   }
  },
  {
   "cell_type": "code",
   "source": [
    "from qiskit.primitives import StatevectorEstimator, Estimator\n",
    "from qiskit.providers.fake_provider import GenericBackendV2\n",
    "\n",
    "# backend = GenericBackendV2(num_qubits=5)\n",
    "estimator = Estimator() #BackendEstimatorV2(backend=backend)"
   ],
   "metadata": {
    "collapsed": false,
    "ExecuteTime": {
     "end_time": "2024-10-31T07:05:01.607255Z",
     "start_time": "2024-10-31T07:05:01.578896Z"
    }
   },
   "outputs": [
    {
     "name": "stderr",
     "output_type": "stream",
     "text": [
      "/tmp/ipykernel_9/2561769255.py:5: DeprecationWarning: The class ``qiskit.primitives.estimator.Estimator`` is deprecated as of qiskit 1.2. It will be removed no earlier than 3 months after the release date. All implementations of the `BaseEstimatorV1` interface have been deprecated in favor of their V2 counterparts. The V2 alternative for the `Estimator` class is `StatevectorEstimator`.\n",
      "  estimator = Estimator() #BackendEstimatorV2(backend=backend)\n"
     ]
    }
   ],
   "execution_count": 17
  },
  {
   "metadata": {
    "ExecuteTime": {
     "end_time": "2024-10-31T07:05:07.826635Z",
     "start_time": "2024-10-31T07:05:07.808932Z"
    }
   },
   "cell_type": "code",
   "source": [
    "\n",
    "from qiskit_algorithms.optimizers import COBYLA\n",
    "\n",
    "optimizer = COBYLA(maxiter=1)"
   ],
   "outputs": [],
   "execution_count": 18
  },
  {
   "metadata": {
    "ExecuteTime": {
     "end_time": "2024-10-31T07:05:10.668253Z",
     "start_time": "2024-10-31T07:05:08.956177Z"
    }
   },
   "cell_type": "code",
   "source": [
    "from qiskit_algorithms import VQE\n",
    "\n",
    "algo = VQE(estimator, ansatz, optimizer)\n",
    "result = algo.compute_minimum_eigenvalue(qubit_op)"
   ],
   "outputs": [],
   "execution_count": 19
  },
  {
   "metadata": {
    "ExecuteTime": {
     "end_time": "2024-10-31T07:05:16.453361Z",
     "start_time": "2024-10-31T07:05:16.415621Z"
    }
   },
   "cell_type": "code",
   "source": "result",
   "outputs": [
    {
     "data": {
      "text/plain": [
       "<qiskit_algorithms.minimum_eigensolvers.vqe.VQEResult at 0x7f2e9914bf50>"
      ]
     },
     "execution_count": 20,
     "metadata": {},
     "output_type": "execute_result"
    }
   ],
   "execution_count": 20
  },
  {
   "metadata": {
    "ExecuteTime": {
     "end_time": "2024-10-31T07:05:21.294533Z",
     "start_time": "2024-10-31T07:05:21.265583Z"
    }
   },
   "cell_type": "code",
   "source": "vars(result)",
   "outputs": [
    {
     "data": {
      "text/plain": [
       "{'_eigenvalue': np.float64(-1.6288596769567425),\n",
       " '_aux_operators_evaluated': None,\n",
       " '_optimizer_evals': None,\n",
       " '_optimizer_time': 1.685189962387085,\n",
       " '_optimal_value': np.float64(-1.6288596769567425),\n",
       " '_optimal_point': array([ 6.04516638,  6.2124388 , -0.47337537]),\n",
       " '_optimal_parameters': {ParameterVectorElement(t[0]): np.float64(6.045166380569942),\n",
       "  ParameterVectorElement(t[1]): np.float64(6.212438795189334),\n",
       "  ParameterVectorElement(t[2]): np.float64(-0.4733753708743702)},\n",
       " '_optimizer_result': <qiskit_algorithms.optimizers.optimizer.OptimizerResult at 0x7f2e7dfe97f0>,\n",
       " '_optimal_circuit': <qiskit_nature.second_q.circuit.library.ansatzes.uccsd.UCCSD at 0x7f2e9815ecc0>,\n",
       " '_cost_function_evals': 1}"
      ]
     },
     "execution_count": 21,
     "metadata": {},
     "output_type": "execute_result"
    }
   ],
   "execution_count": 21
  },
  {
   "metadata": {},
   "cell_type": "code",
   "outputs": [],
   "execution_count": null,
   "source": ""
  }
 ],
 "metadata": {
  "kernelspec": {
   "display_name": "Python 3",
   "language": "python",
   "name": "python3"
  },
  "language_info": {
   "codemirror_mode": {
    "name": "ipython",
    "version": 2
   },
   "file_extension": ".py",
   "mimetype": "text/x-python",
   "name": "python",
   "nbconvert_exporter": "python",
   "pygments_lexer": "ipython2",
   "version": "2.7.6"
  }
 },
 "nbformat": 4,
 "nbformat_minor": 0
}
