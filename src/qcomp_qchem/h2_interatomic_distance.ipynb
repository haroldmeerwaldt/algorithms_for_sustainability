{
 "cells": [
  {
   "cell_type": "markdown",
   "source": [
    "# Quantum chemistry with Qiskit Nature: finding the interatomic distance of a hydrogen molecule"
   ],
   "metadata": {
    "collapsed": false
   }
  },
  {
   "cell_type": "markdown",
   "source": [
    "Introduction\n",
    "\n",
    "[refs: Sharkey and qiskit-nature documentation]\n",
    "[look at qiskit nature documentation for explanations]"
   ],
   "metadata": {
    "collapsed": false
   }
  },
  {
   "cell_type": "markdown",
   "source": [
    "## MoleculeInfo\n",
    "We start by describing the molecule that we want to look at, in our case a hydrogen molecule:"
   ],
   "metadata": {
    "collapsed": false
   }
  },
  {
   "cell_type": "code",
   "execution_count": 1,
   "outputs": [],
   "source": [
    "from qiskit_nature.second_q.formats import MoleculeInfo\n",
    "molecule = MoleculeInfo(symbols=[\"H\", \"H\"], coords=[(0.0, 0.0, 0.0), (0.0, 0.0, 3)], charge=0, multiplicity=1)"
   ],
   "metadata": {
    "collapsed": false
   }
  },
  {
   "cell_type": "markdown",
   "source": [
    "* The symbols are for the two hydrogen atoms.\n",
    "* We are going to vary the coordinates (in Angstrom) of the second hydrogen atom. We'll use 3 Angstrom as the initial point.\n",
    "* The total charge of the hydrogen atom is 0.\n",
    "* The multiplicity is 2 * S + 1, where S is the spin of the molecule due to unpaired electrons. The hydrogen molecule has no unpaired electrons, so the multiplicity is 1."
   ],
   "metadata": {
    "collapsed": false
   }
  },
  {
   "cell_type": "markdown",
   "source": [
    "Next, we convert the molecule into electronic structure problem through the PySCFDriver:"
   ],
   "metadata": {
    "collapsed": false
   }
  },
  {
   "cell_type": "code",
   "execution_count": null,
   "outputs": [],
   "source": [
    "from qiskit_nature.second_q.drivers import PySCFDriver\n",
    "driver = PySCFDriver.from_molecule(molecule)\n",
    "problem = driver.run()"
   ],
   "metadata": {
    "collapsed": false
   }
  },
  {
   "cell_type": "markdown",
   "source": [
    "PySCFDriver is a driver from the PySCF library for second quantization. Second quantization means converting the description of the molecule from using electronic wave functions to using Fock space. Electronic wave functions give the probability density to find an electron at a certain set of coordinates. Wave functions can be built up from eigenfunctions, functions with an allowed energy. Using these eigenfunctions, the electronic configuration can the also be described in Fock space, where we no longer look at the position we may find the electron, but at which one of the eigenstates the electron is in. [check and improve, eigenstates/functions]"
   ],
   "metadata": {
    "collapsed": false
   }
  },
  {
   "cell_type": "markdown",
   "source": [
    "## QubitConverter\n",
    "To do quantum chemistry calculations using quantum computing, operators on electrons need to be converted to operators on qubits. This is done with a QubitConverter object:"
   ],
   "metadata": {
    "collapsed": false
   }
  },
  {
   "cell_type": "code",
   "execution_count": 2,
   "outputs": [],
   "source": [
    "from qiskit_nature.second_q.mappers import JordanWignerMapper, QubitConverter\n",
    "\n",
    "mapper = JordanWignerMapper()\n",
    "qubit_converter = QubitConverter(mapper=mapper, two_qubit_reduction=True)"
   ],
   "metadata": {
    "collapsed": false
   }
  },
  {
   "cell_type": "markdown",
   "source": [
    "* The specific mapper chosen uses the Jordan-Wigner transformation [why? how does it work?]. Other possible mappers are ParityMapper and BravyiKitaevMapper. [why not these? how do they work?]"
   ],
   "metadata": {
    "collapsed": false
   }
  },
  {
   "cell_type": "markdown",
   "source": [
    "## VQEUCCFactory\n",
    "We are going to calculate the interatomic distance of hydrogen using the Variational Quantum Eigensolver (VQE) algorithm. VQE works in a loop, where each iteration has the following steps:\n",
    " * A quantum circuit (a sequence of qubit operations) is described by a set of parameters\n",
    " * The qubit values are measured after executing the quantum circuit.\n",
    " * Based on the qubit values, new parameters for the quantum circuit are chosen.\n",
    "\n",
    "In our case the qubit values represent the energy of the hydrogen molecule. The goal of the loop is to find the parameters of the quantum circuit that give the lowest energy (ground state energy). The parameters of the quantum circuit model the state of the electrons of the hydrogen molecule. [how does it determine this?]\n"
   ],
   "metadata": {
    "collapsed": false
   }
  },
  {
   "cell_type": "code",
   "execution_count": 3,
   "outputs": [],
   "source": [
    "from qiskit.algorithms.optimizers import SLSQP\n",
    "from qiskit_nature.second_q.algorithms import VQEUCCFactory\n",
    "from qiskit_nature.second_q.circuit.library import UCCSD\n",
    "from qiskit.primitives import Estimator\n",
    "\n",
    "solver_factory = VQEUCCFactory(estimator=Estimator(), ansatz=UCCSD(), optimizer=SLSQP())"
   ],
   "metadata": {
    "collapsed": false
   }
  },
  {
   "cell_type": "markdown",
   "source": [
    "The VQEUCCFactory makes a VQE instance.\n",
    "* an Estimator instance is used to estimate the eigenvalues [how exactly? why?]\n",
    "* the UCCSD constructs a multi-electron wave function as the ansatz, with the sum of single (S) and double (D) excitations [how exactly? what is UCC?]\n",
    "* optimization in the loop is done by the Sequential Least SQuares Programming optimizer"
   ],
   "metadata": {
    "collapsed": false
   }
  },
  {
   "cell_type": "markdown",
   "source": [],
   "metadata": {
    "collapsed": false
   }
  },
  {
   "cell_type": "markdown",
   "source": [
    "\n",
    "\n",
    "\n",
    "\n",
    "\n",
    "VQEUCCFactory and Estimator, UCCSD, SLSQP\n",
    "PySCFDriver\n",
    "ActiveSpaceTransformer\n",
    "GroundStateEigenSolver"
   ],
   "metadata": {
    "collapsed": false
   }
  },
  {
   "cell_type": "code",
   "execution_count": 3,
   "outputs": [],
   "source": [],
   "metadata": {
    "collapsed": false
   }
  }
 ],
 "metadata": {
  "kernelspec": {
   "display_name": "Python 3",
   "language": "python",
   "name": "python3"
  },
  "language_info": {
   "codemirror_mode": {
    "name": "ipython",
    "version": 2
   },
   "file_extension": ".py",
   "mimetype": "text/x-python",
   "name": "python",
   "nbconvert_exporter": "python",
   "pygments_lexer": "ipython2",
   "version": "2.7.6"
  }
 },
 "nbformat": 4,
 "nbformat_minor": 0
}
